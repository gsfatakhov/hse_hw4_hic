{
  "nbformat": 4,
  "nbformat_minor": 0,
  "metadata": {
    "colab": {
      "provenance": []
    },
    "kernelspec": {
      "name": "python3",
      "display_name": "Python 3"
    },
    "language_info": {
      "name": "python"
    }
  },
  "cells": [
    {
      "cell_type": "markdown",
      "source": [
        "Read the https://pairtools.readthedocs.io/en/latest/ and https://cooler.readthedocs.io/en/latest/index.html\n",
        "for more information"
      ],
      "metadata": {
        "id": "bT9Zmb4IWpt-"
      }
    },
    {
      "cell_type": "code",
      "source": [
        "!pip install -q condacolab\n",
        "import condacolab\n",
        "condacolab.install()"
      ],
      "metadata": {
        "colab": {
          "base_uri": "https://localhost:8080/"
        },
        "id": "NUHB0MTIJ65A",
        "outputId": "66b53b6a-c369-44b6-eced-050616944322"
      },
      "execution_count": 1,
      "outputs": [
        {
          "output_type": "stream",
          "name": "stdout",
          "text": [
            "⏬ Downloading https://github.com/conda-forge/miniforge/releases/download/23.11.0-0/Mambaforge-23.11.0-0-Linux-x86_64.sh...\n",
            "📦 Installing...\n",
            "📌 Adjusting configuration...\n",
            "🩹 Patching environment...\n",
            "⏲ Done in 0:00:22\n",
            "🔁 Restarting kernel...\n"
          ]
        }
      ]
    },
    {
      "cell_type": "markdown",
      "source": [
        "Homework report should include:  \n",
        "1) scaling plot in log-log coordinates with description; create correct labels for scaling plot, including units of measurement; make comments on operations in cell starting with ##!!!  \n",
        "2) replicates clusterization for all files (in directory for the lecture) with dendrogram and description;  make comments on operations in cells starting with ##!!!  "
      ],
      "metadata": {
        "id": "sOZreAWrdEMH"
      }
    },
    {
      "cell_type": "code",
      "source": [
        "%%bash\n",
        "pip install cooler\n",
        "pip install hicrep\n"
      ],
      "metadata": {
        "id": "D6J4SbLzJ8Ch",
        "colab": {
          "base_uri": "https://localhost:8080/"
        },
        "outputId": "9ecf7eb9-2c1d-43bf-f921-905b4ed40ab1"
      },
      "execution_count": 2,
      "outputs": [
        {
          "output_type": "stream",
          "name": "stdout",
          "text": [
            "Collecting cooler\n",
            "  Downloading cooler-0.9.3-py3-none-any.whl.metadata (8.2 kB)\n",
            "Collecting asciitree (from cooler)\n",
            "  Downloading asciitree-0.3.3.tar.gz (4.0 kB)\n",
            "  Preparing metadata (setup.py): started\n",
            "  Preparing metadata (setup.py): finished with status 'done'\n",
            "Collecting click>=7 (from cooler)\n",
            "  Using cached click-8.1.7-py3-none-any.whl.metadata (3.0 kB)\n",
            "Collecting cytoolz (from cooler)\n",
            "  Downloading cytoolz-0.12.3-cp310-cp310-manylinux_2_17_x86_64.manylinux2014_x86_64.whl.metadata (4.6 kB)\n",
            "Collecting h5py>=2.5 (from cooler)\n",
            "  Downloading h5py-3.11.0-cp310-cp310-manylinux_2_17_x86_64.manylinux2014_x86_64.whl.metadata (2.5 kB)\n",
            "Collecting multiprocess (from cooler)\n",
            "  Downloading multiprocess-0.70.16-py310-none-any.whl.metadata (7.2 kB)\n",
            "Collecting numpy>=1.9 (from cooler)\n",
            "  Downloading numpy-1.26.4-cp310-cp310-manylinux_2_17_x86_64.manylinux2014_x86_64.whl.metadata (61 kB)\n",
            "     ━━━━━━━━━━━━━━━━━━━━━━━━━━━━━━━━━━━━━━━━ 61.0/61.0 kB 3.0 MB/s eta 0:00:00\n",
            "Collecting pandas>1.0 (from cooler)\n",
            "  Downloading pandas-2.2.2-cp310-cp310-manylinux_2_17_x86_64.manylinux2014_x86_64.whl.metadata (19 kB)\n",
            "Collecting pyfaidx (from cooler)\n",
            "  Downloading pyfaidx-0.8.1.1-py3-none-any.whl.metadata (25 kB)\n",
            "Collecting pyyaml (from cooler)\n",
            "  Downloading PyYAML-6.0.1-cp310-cp310-manylinux_2_17_x86_64.manylinux2014_x86_64.whl.metadata (2.1 kB)\n",
            "Collecting scipy>=0.16 (from cooler)\n",
            "  Downloading scipy-1.13.0-cp310-cp310-manylinux_2_17_x86_64.manylinux2014_x86_64.whl.metadata (60 kB)\n",
            "     ━━━━━━━━━━━━━━━━━━━━━━━━━━━━━━━━━━━━━━━━ 60.6/60.6 kB 2.2 MB/s eta 0:00:00\n",
            "Collecting simplejson (from cooler)\n",
            "  Downloading simplejson-3.19.2-cp310-cp310-manylinux_2_5_x86_64.manylinux1_x86_64.manylinux_2_17_x86_64.manylinux2014_x86_64.whl.metadata (3.1 kB)\n",
            "Collecting python-dateutil>=2.8.2 (from pandas>1.0->cooler)\n",
            "  Downloading python_dateutil-2.9.0.post0-py2.py3-none-any.whl.metadata (8.4 kB)\n",
            "Collecting pytz>=2020.1 (from pandas>1.0->cooler)\n",
            "  Downloading pytz-2024.1-py2.py3-none-any.whl.metadata (22 kB)\n",
            "Collecting tzdata>=2022.7 (from pandas>1.0->cooler)\n",
            "  Downloading tzdata-2024.1-py2.py3-none-any.whl.metadata (1.4 kB)\n",
            "Collecting toolz>=0.8.0 (from cytoolz->cooler)\n",
            "  Downloading toolz-0.12.1-py3-none-any.whl.metadata (5.1 kB)\n",
            "Collecting dill>=0.3.8 (from multiprocess->cooler)\n",
            "  Downloading dill-0.3.8-py3-none-any.whl.metadata (10 kB)\n",
            "Requirement already satisfied: setuptools in /usr/local/lib/python3.10/site-packages (from pyfaidx->cooler) (68.2.2)\n",
            "Collecting importlib-metadata (from pyfaidx->cooler)\n",
            "  Downloading importlib_metadata-7.1.0-py3-none-any.whl.metadata (4.7 kB)\n",
            "Collecting six>=1.5 (from python-dateutil>=2.8.2->pandas>1.0->cooler)\n",
            "  Downloading six-1.16.0-py2.py3-none-any.whl.metadata (1.8 kB)\n",
            "Collecting zipp>=0.5 (from importlib-metadata->pyfaidx->cooler)\n",
            "  Downloading zipp-3.18.1-py3-none-any.whl.metadata (3.5 kB)\n",
            "Downloading cooler-0.9.3-py3-none-any.whl (103 kB)\n",
            "   ━━━━━━━━━━━━━━━━━━━━━━━━━━━━━━━━━━━━━━━━ 103.7/103.7 kB 8.0 MB/s eta 0:00:00\n",
            "Using cached click-8.1.7-py3-none-any.whl (97 kB)\n",
            "Downloading h5py-3.11.0-cp310-cp310-manylinux_2_17_x86_64.manylinux2014_x86_64.whl (5.3 MB)\n",
            "   ━━━━━━━━━━━━━━━━━━━━━━━━━━━━━━━━━━━━━━━━ 5.3/5.3 MB 66.7 MB/s eta 0:00:00\n",
            "Downloading numpy-1.26.4-cp310-cp310-manylinux_2_17_x86_64.manylinux2014_x86_64.whl (18.2 MB)\n",
            "   ━━━━━━━━━━━━━━━━━━━━━━━━━━━━━━━━━━━━━━━━ 18.2/18.2 MB 85.5 MB/s eta 0:00:00\n",
            "Downloading pandas-2.2.2-cp310-cp310-manylinux_2_17_x86_64.manylinux2014_x86_64.whl (13.0 MB)\n",
            "   ━━━━━━━━━━━━━━━━━━━━━━━━━━━━━━━━━━━━━━━━ 13.0/13.0 MB 96.0 MB/s eta 0:00:00\n",
            "Downloading scipy-1.13.0-cp310-cp310-manylinux_2_17_x86_64.manylinux2014_x86_64.whl (38.6 MB)\n",
            "   ━━━━━━━━━━━━━━━━━━━━━━━━━━━━━━━━━━━━━━━━ 38.6/38.6 MB 19.5 MB/s eta 0:00:00\n",
            "Downloading cytoolz-0.12.3-cp310-cp310-manylinux_2_17_x86_64.manylinux2014_x86_64.whl (2.0 MB)\n",
            "   ━━━━━━━━━━━━━━━━━━━━━━━━━━━━━━━━━━━━━━━━ 2.0/2.0 MB 62.9 MB/s eta 0:00:00\n",
            "Downloading multiprocess-0.70.16-py310-none-any.whl (134 kB)\n",
            "   ━━━━━━━━━━━━━━━━━━━━━━━━━━━━━━━━━━━━━━━━ 134.8/134.8 kB 10.1 MB/s eta 0:00:00\n",
            "Downloading pyfaidx-0.8.1.1-py3-none-any.whl (28 kB)\n",
            "Downloading PyYAML-6.0.1-cp310-cp310-manylinux_2_17_x86_64.manylinux2014_x86_64.whl (705 kB)\n",
            "   ━━━━━━━━━━━━━━━━━━━━━━━━━━━━━━━━━━━━━━━━ 705.5/705.5 kB 37.6 MB/s eta 0:00:00\n",
            "Downloading simplejson-3.19.2-cp310-cp310-manylinux_2_5_x86_64.manylinux1_x86_64.manylinux_2_17_x86_64.manylinux2014_x86_64.whl (137 kB)\n",
            "   ━━━━━━━━━━━━━━━━━━━━━━━━━━━━━━━━━━━━━━━━ 137.9/137.9 kB 10.9 MB/s eta 0:00:00\n",
            "Downloading dill-0.3.8-py3-none-any.whl (116 kB)\n",
            "   ━━━━━━━━━━━━━━━━━━━━━━━━━━━━━━━━━━━━━━━━ 116.3/116.3 kB 9.4 MB/s eta 0:00:00\n",
            "Downloading python_dateutil-2.9.0.post0-py2.py3-none-any.whl (229 kB)\n",
            "   ━━━━━━━━━━━━━━━━━━━━━━━━━━━━━━━━━━━━━━━━ 229.9/229.9 kB 17.6 MB/s eta 0:00:00\n",
            "Downloading pytz-2024.1-py2.py3-none-any.whl (505 kB)\n",
            "   ━━━━━━━━━━━━━━━━━━━━━━━━━━━━━━━━━━━━━━━━ 505.5/505.5 kB 29.7 MB/s eta 0:00:00\n",
            "Downloading toolz-0.12.1-py3-none-any.whl (56 kB)\n",
            "   ━━━━━━━━━━━━━━━━━━━━━━━━━━━━━━━━━━━━━━━━ 56.1/56.1 kB 3.9 MB/s eta 0:00:00\n",
            "Downloading tzdata-2024.1-py2.py3-none-any.whl (345 kB)\n",
            "   ━━━━━━━━━━━━━━━━━━━━━━━━━━━━━━━━━━━━━━━━ 345.4/345.4 kB 25.1 MB/s eta 0:00:00\n",
            "Downloading importlib_metadata-7.1.0-py3-none-any.whl (24 kB)\n",
            "Downloading six-1.16.0-py2.py3-none-any.whl (11 kB)\n",
            "Downloading zipp-3.18.1-py3-none-any.whl (8.2 kB)\n",
            "Building wheels for collected packages: asciitree\n",
            "  Building wheel for asciitree (setup.py): started\n",
            "  Building wheel for asciitree (setup.py): finished with status 'done'\n",
            "  Created wheel for asciitree: filename=asciitree-0.3.3-py3-none-any.whl size=5033 sha256=e2aa9d37d8f6eb8bb37488d14d4f3f1f828cd664b70f8f9e09d2a27fed24edec\n",
            "  Stored in directory: /root/.cache/pip/wheels/7f/4e/be/1171b40f43b918087657ec57cf3b81fa1a2e027d8755baa184\n",
            "Successfully built asciitree\n",
            "Installing collected packages: pytz, asciitree, zipp, tzdata, toolz, six, simplejson, pyyaml, numpy, dill, click, scipy, python-dateutil, multiprocess, importlib-metadata, h5py, cytoolz, pyfaidx, pandas, cooler\n",
            "Successfully installed asciitree-0.3.3 click-8.1.7 cooler-0.9.3 cytoolz-0.12.3 dill-0.3.8 h5py-3.11.0 importlib-metadata-7.1.0 multiprocess-0.70.16 numpy-1.26.4 pandas-2.2.2 pyfaidx-0.8.1.1 python-dateutil-2.9.0.post0 pytz-2024.1 pyyaml-6.0.1 scipy-1.13.0 simplejson-3.19.2 six-1.16.0 toolz-0.12.1 tzdata-2024.1 zipp-3.18.1\n",
            "Collecting hicrep\n",
            "  Downloading hicrep-0.2.6.tar.gz (22 kB)\n",
            "  Preparing metadata (setup.py): started\n",
            "  Preparing metadata (setup.py): finished with status 'done'\n",
            "Collecting Deprecated (from hicrep)\n",
            "  Downloading Deprecated-1.2.14-py2.py3-none-any.whl.metadata (5.4 kB)\n",
            "Requirement already satisfied: numpy>=1.17.0 in /usr/local/lib/python3.10/site-packages (from hicrep) (1.26.4)\n",
            "Requirement already satisfied: scipy in /usr/local/lib/python3.10/site-packages (from hicrep) (1.13.0)\n",
            "Requirement already satisfied: cooler in /usr/local/lib/python3.10/site-packages (from hicrep) (0.9.3)\n",
            "Requirement already satisfied: pandas in /usr/local/lib/python3.10/site-packages (from hicrep) (2.2.2)\n",
            "Requirement already satisfied: h5py in /usr/local/lib/python3.10/site-packages (from hicrep) (3.11.0)\n",
            "Requirement already satisfied: asciitree in /usr/local/lib/python3.10/site-packages (from cooler->hicrep) (0.3.3)\n",
            "Requirement already satisfied: click>=7 in /usr/local/lib/python3.10/site-packages (from cooler->hicrep) (8.1.7)\n",
            "Requirement already satisfied: cytoolz in /usr/local/lib/python3.10/site-packages (from cooler->hicrep) (0.12.3)\n",
            "Requirement already satisfied: multiprocess in /usr/local/lib/python3.10/site-packages (from cooler->hicrep) (0.70.16)\n",
            "Requirement already satisfied: pyfaidx in /usr/local/lib/python3.10/site-packages (from cooler->hicrep) (0.8.1.1)\n",
            "Requirement already satisfied: pyyaml in /usr/local/lib/python3.10/site-packages (from cooler->hicrep) (6.0.1)\n",
            "Requirement already satisfied: simplejson in /usr/local/lib/python3.10/site-packages (from cooler->hicrep) (3.19.2)\n",
            "Requirement already satisfied: python-dateutil>=2.8.2 in /usr/local/lib/python3.10/site-packages (from pandas->hicrep) (2.9.0.post0)\n",
            "Requirement already satisfied: pytz>=2020.1 in /usr/local/lib/python3.10/site-packages (from pandas->hicrep) (2024.1)\n",
            "Requirement already satisfied: tzdata>=2022.7 in /usr/local/lib/python3.10/site-packages (from pandas->hicrep) (2024.1)\n",
            "Collecting wrapt<2,>=1.10 (from Deprecated->hicrep)\n",
            "  Downloading wrapt-1.16.0-cp310-cp310-manylinux_2_5_x86_64.manylinux1_x86_64.manylinux_2_17_x86_64.manylinux2014_x86_64.whl.metadata (6.6 kB)\n",
            "Requirement already satisfied: six>=1.5 in /usr/local/lib/python3.10/site-packages (from python-dateutil>=2.8.2->pandas->hicrep) (1.16.0)\n",
            "Requirement already satisfied: toolz>=0.8.0 in /usr/local/lib/python3.10/site-packages (from cytoolz->cooler->hicrep) (0.12.1)\n",
            "Requirement already satisfied: dill>=0.3.8 in /usr/local/lib/python3.10/site-packages (from multiprocess->cooler->hicrep) (0.3.8)\n",
            "Requirement already satisfied: setuptools in /usr/local/lib/python3.10/site-packages (from pyfaidx->cooler->hicrep) (68.2.2)\n",
            "Requirement already satisfied: importlib-metadata in /usr/local/lib/python3.10/site-packages (from pyfaidx->cooler->hicrep) (7.1.0)\n",
            "Requirement already satisfied: zipp>=0.5 in /usr/local/lib/python3.10/site-packages (from importlib-metadata->pyfaidx->cooler->hicrep) (3.18.1)\n",
            "Downloading Deprecated-1.2.14-py2.py3-none-any.whl (9.6 kB)\n",
            "Downloading wrapt-1.16.0-cp310-cp310-manylinux_2_5_x86_64.manylinux1_x86_64.manylinux_2_17_x86_64.manylinux2014_x86_64.whl (80 kB)\n",
            "   ━━━━━━━━━━━━━━━━━━━━━━━━━━━━━━━━━━━━━━━━ 80.3/80.3 kB 4.2 MB/s eta 0:00:00\n",
            "Building wheels for collected packages: hicrep\n",
            "  Building wheel for hicrep (setup.py): started\n",
            "  Building wheel for hicrep (setup.py): finished with status 'done'\n",
            "  Created wheel for hicrep: filename=hicrep-0.2.6-py3-none-any.whl size=34754 sha256=2f7192977b337086472a900e42be80c172daffa1882cf2cb7cec4338bd5b5681\n",
            "  Stored in directory: /root/.cache/pip/wheels/21/75/06/6354db4851e5edd4899df43eded6240031885d7df3d5184d7a\n",
            "Successfully built hicrep\n",
            "Installing collected packages: wrapt, Deprecated, hicrep\n",
            "Successfully installed Deprecated-1.2.14 hicrep-0.2.6 wrapt-1.16.0\n"
          ]
        },
        {
          "output_type": "stream",
          "name": "stderr",
          "text": [
            "WARNING: Running pip as the 'root' user can result in broken permissions and conflicting behaviour with the system package manager. It is recommended to use a virtual environment instead: https://pip.pypa.io/warnings/venv\n",
            "WARNING: Running pip as the 'root' user can result in broken permissions and conflicting behaviour with the system package manager. It is recommended to use a virtual environment instead: https://pip.pypa.io/warnings/venv\n"
          ]
        }
      ]
    },
    {
      "cell_type": "code",
      "source": [
        "import matplotlib.pyplot as plt"
      ],
      "metadata": {
        "id": "iG0TD4Bn1fob"
      },
      "execution_count": 1,
      "outputs": []
    },
    {
      "cell_type": "code",
      "source": [
        "import cooler"
      ],
      "metadata": {
        "id": "cuRWerkAKrYK"
      },
      "execution_count": 2,
      "outputs": []
    },
    {
      "cell_type": "code",
      "source": [
        "import numpy as np"
      ],
      "metadata": {
        "id": "IRWfAgdaNqY4"
      },
      "execution_count": 3,
      "outputs": []
    },
    {
      "cell_type": "code",
      "source": [
        "from google.colab import drive\n",
        "drive.mount('/content/drive')"
      ],
      "metadata": {
        "colab": {
          "base_uri": "https://localhost:8080/"
        },
        "id": "yAYb9Fjtd2jM",
        "outputId": "b3f9a9ed-a0cf-4246-b6c7-d12ce0c17ddf"
      },
      "execution_count": 4,
      "outputs": [
        {
          "output_type": "stream",
          "name": "stdout",
          "text": [
            "Mounted at /content/drive\n"
          ]
        }
      ]
    },
    {
      "cell_type": "code",
      "source": [
        "import seaborn as sns\n",
        "import pandas as pd\n",
        "import hicrep\n",
        "from hicrep import hicrepSCC\n",
        "from hicrep.utils import readMcool"
      ],
      "metadata": {
        "id": "5e7bHb3Y0l68"
      },
      "execution_count": 5,
      "outputs": []
    },
    {
      "cell_type": "code",
      "source": [
        "dir ='/content/drive/MyDrive/bioinf/'\n",
        "\n",
        "mcools = ['HiC1.dm3.mapq_30.1000.mcool',\n",
        "          'HiC2.dm3.mapq_30.1000.mcool',\n",
        "          'HiC3.dm3.mapq_30.1000.mcool',\n",
        "          'HiC4.dm3.mapq_30.1000.mcool'\n",
        "          ]\n",
        "clrs = []"
      ],
      "metadata": {
        "id": "45gps2TTAtTg"
      },
      "execution_count": 7,
      "outputs": []
    },
    {
      "cell_type": "code",
      "source": [
        "resolution = 20000\n",
        "for mcool in mcools:\n",
        "  clr = cooler.Cooler(f'{dir + mcool}::resolutions/{resolution}')\n",
        "  print(mcool)\n",
        "  print(clr.info)\n",
        "  clrs.append(clr)\n"
      ],
      "metadata": {
        "id": "Sj3zYDXTiuxe",
        "colab": {
          "base_uri": "https://localhost:8080/"
        },
        "outputId": "74f04621-15bc-473c-e264-6a78ce1164ed"
      },
      "execution_count": 8,
      "outputs": [
        {
          "output_type": "stream",
          "name": "stdout",
          "text": [
            "HiC1.dm3.mapq_30.1000.mcool\n",
            "{'bin-size': 20000, 'bin-type': 'fixed', 'creation-date': '2023-04-06T04:39:00.281457', 'format': 'HDF5::Cooler', 'format-url': 'https://github.com/open2c/cooler', 'format-version': 3, 'generated-by': 'cooler-0.8.11', 'genome-assembly': 'unknown', 'metadata': {}, 'nbins': 6024, 'nchroms': 7, 'nnz': 7122786, 'storage-mode': 'symmetric-upper', 'sum': 63912926}\n",
            "HiC2.dm3.mapq_30.1000.mcool\n",
            "{'bin-size': 20000, 'bin-type': 'fixed', 'creation-date': '2023-04-06T04:16:47.610855', 'format': 'HDF5::Cooler', 'format-url': 'https://github.com/open2c/cooler', 'format-version': 3, 'generated-by': 'cooler-0.8.11', 'genome-assembly': 'unknown', 'metadata': {}, 'nbins': 6024, 'nchroms': 7, 'nnz': 7386462, 'storage-mode': 'symmetric-upper', 'sum': 61819050}\n",
            "HiC3.dm3.mapq_30.1000.mcool\n",
            "{'bin-size': 20000, 'bin-type': 'fixed', 'creation-date': '2023-04-06T04:23:11.844138', 'format': 'HDF5::Cooler', 'format-url': 'https://github.com/open2c/cooler', 'format-version': 3, 'generated-by': 'cooler-0.8.11', 'genome-assembly': 'unknown', 'metadata': {}, 'nbins': 6024, 'nchroms': 7, 'nnz': 4852836, 'storage-mode': 'symmetric-upper', 'sum': 62878716}\n",
            "HiC4.dm3.mapq_30.1000.mcool\n",
            "{'bin-size': 20000, 'bin-type': 'fixed', 'creation-date': '2023-04-06T04:53:24.060433', 'format': 'HDF5::Cooler', 'format-url': 'https://github.com/open2c/cooler', 'format-version': 3, 'generated-by': 'cooler-0.8.11', 'genome-assembly': 'unknown', 'metadata': {}, 'nbins': 6024, 'nchroms': 7, 'nnz': 5689703, 'storage-mode': 'symmetric-upper', 'sum': 74497702}\n"
          ]
        }
      ]
    },
    {
      "cell_type": "code",
      "source": [
        "clr.chromnames"
      ],
      "metadata": {
        "colab": {
          "base_uri": "https://localhost:8080/"
        },
        "id": "U0644jQWvZgC",
        "outputId": "8dec6d66-894b-4afc-ca91-562580b0a2b8"
      },
      "execution_count": 16,
      "outputs": [
        {
          "output_type": "execute_result",
          "data": {
            "text/plain": [
              "['chr2L', 'chr2R', 'chr3L', 'chr3R', 'chr4', 'chrX', 'chrM']"
            ]
          },
          "metadata": {},
          "execution_count": 16
        }
      ]
    },
    {
      "cell_type": "code",
      "source": [
        "chrName = 'chrX'"
      ],
      "metadata": {
        "id": "dqYxjtcM0vvd"
      },
      "execution_count": 9,
      "outputs": []
    },
    {
      "cell_type": "code",
      "source": [
        "balancedMatrix = clr.matrix(balance=True).fetch(chrName)"
      ],
      "metadata": {
        "id": "0uoCxkbT0twE"
      },
      "execution_count": 10,
      "outputs": []
    },
    {
      "cell_type": "code",
      "source": [
        "balancedMatrix"
      ],
      "metadata": {
        "colab": {
          "base_uri": "https://localhost:8080/"
        },
        "id": "3KT7dnD605ah",
        "outputId": "e9f3a60c-2b74-45e7-df8e-268f982cf2c8"
      },
      "execution_count": 11,
      "outputs": [
        {
          "output_type": "execute_result",
          "data": {
            "text/plain": [
              "array([[       nan,        nan,        nan, ...,        nan,        nan,\n",
              "               nan],\n",
              "       [       nan,        nan,        nan, ...,        nan,        nan,\n",
              "               nan],\n",
              "       [       nan,        nan,        nan, ...,        nan,        nan,\n",
              "               nan],\n",
              "       ...,\n",
              "       [       nan,        nan,        nan, ..., 0.56455257,        nan,\n",
              "               nan],\n",
              "       [       nan,        nan,        nan, ...,        nan,        nan,\n",
              "               nan],\n",
              "       [       nan,        nan,        nan, ...,        nan,        nan,\n",
              "               nan]])"
            ]
          },
          "metadata": {},
          "execution_count": 11
        }
      ]
    },
    {
      "cell_type": "code",
      "source": [
        "pixels = [clr.pixels(join=True).fetch(chrName)[:] for clr in clrs]"
      ],
      "metadata": {
        "id": "0rPFnPeEu2mQ"
      },
      "execution_count": 12,
      "outputs": []
    },
    {
      "cell_type": "code",
      "source": [
        "pixels"
      ],
      "metadata": {
        "colab": {
          "base_uri": "https://localhost:8080/"
        },
        "id": "xRYFgZYGzPN9",
        "outputId": "0ee42b69-cea5-4727-f37e-136d379d16ca"
      },
      "execution_count": 13,
      "outputs": [
        {
          "output_type": "execute_result",
          "data": {
            "text/plain": [
              "[        chrom1    start1      end1 chrom2    start2      end2  count\n",
              " 6703639   chrX         0     20000   chrX         0     20000    227\n",
              " 6703640   chrX         0     20000   chrX     20000     40000     53\n",
              " 6703641   chrX         0     20000   chrX     40000     60000      6\n",
              " 6703642   chrX         0     20000   chrX     60000     80000      1\n",
              " 6703643   chrX         0     20000   chrX     80000    100000      4\n",
              " ...        ...       ...       ...    ...       ...       ...    ...\n",
              " 7122780   chrX  22380000  22400000   chrX  22400000  22420000    162\n",
              " 7122781   chrX  22380000  22400000   chrX  22420000  22422827     14\n",
              " 7122782   chrX  22400000  22420000   chrX  22400000  22420000   1694\n",
              " 7122783   chrX  22400000  22420000   chrX  22420000  22422827     27\n",
              " 7122784   chrX  22420000  22422827   chrX  22420000  22422827    244\n",
              " \n",
              " [419146 rows x 7 columns],\n",
              "         chrom1    start1      end1 chrom2    start2      end2  count\n",
              " 6971989   chrX         0     20000   chrX         0     20000    216\n",
              " 6971990   chrX         0     20000   chrX     20000     40000     72\n",
              " 6971991   chrX         0     20000   chrX     40000     60000     13\n",
              " 6971992   chrX         0     20000   chrX     60000     80000      5\n",
              " 6971993   chrX         0     20000   chrX     80000    100000      7\n",
              " ...        ...       ...       ...    ...       ...       ...    ...\n",
              " 7386456   chrX  22380000  22400000   chrX  22400000  22420000    219\n",
              " 7386457   chrX  22380000  22400000   chrX  22420000  22422827     13\n",
              " 7386458   chrX  22400000  22420000   chrX  22400000  22420000   1537\n",
              " 7386459   chrX  22400000  22420000   chrX  22420000  22422827     24\n",
              " 7386460   chrX  22420000  22422827   chrX  22420000  22422827    160\n",
              " \n",
              " [414472 rows x 7 columns],\n",
              "         chrom1    start1      end1 chrom2    start2      end2  count\n",
              " 4449980   chrX         0     20000   chrX         0     20000     42\n",
              " 4449981   chrX         0     20000   chrX     20000     40000     15\n",
              " 4449982   chrX         0     20000   chrX     40000     60000      2\n",
              " 4449983   chrX         0     20000   chrX     60000     80000      1\n",
              " 4449984   chrX         0     20000   chrX     80000    100000      1\n",
              " ...        ...       ...       ...    ...       ...       ...    ...\n",
              " 4852830   chrX  22380000  22400000   chrX  22400000  22420000    404\n",
              " 4852831   chrX  22380000  22400000   chrX  22420000  22422827     36\n",
              " 4852832   chrX  22400000  22420000   chrX  22400000  22420000   1681\n",
              " 4852833   chrX  22400000  22420000   chrX  22420000  22422827     28\n",
              " 4852834   chrX  22420000  22422827   chrX  22420000  22422827    195\n",
              " \n",
              " [402855 rows x 7 columns],\n",
              "         chrom1    start1      end1 chrom2    start2      end2  count\n",
              " 5246273   chrX         0     20000   chrX         0     20000     78\n",
              " 5246274   chrX         0     20000   chrX     20000     40000     23\n",
              " 5246275   chrX         0     20000   chrX     40000     60000      2\n",
              " 5246276   chrX         0     20000   chrX     60000     80000      3\n",
              " 5246277   chrX         0     20000   chrX    140000    160000      9\n",
              " ...        ...       ...       ...    ...       ...       ...    ...\n",
              " 5689697   chrX  22380000  22400000   chrX  22400000  22420000    504\n",
              " 5689698   chrX  22380000  22400000   chrX  22420000  22422827     41\n",
              " 5689699   chrX  22400000  22420000   chrX  22400000  22420000   1872\n",
              " 5689700   chrX  22400000  22420000   chrX  22420000  22422827     39\n",
              " 5689701   chrX  22420000  22422827   chrX  22420000  22422827    207\n",
              " \n",
              " [443429 rows x 7 columns]]"
            ]
          },
          "metadata": {},
          "execution_count": 13
        }
      ]
    },
    {
      "cell_type": "code",
      "source": [
        "for mcool in mcools:\n",
        "    file_path = f'{dir}{mcool}::/resolutions/{resolution}'\n",
        "\n",
        "    !cooler dump -r 'chrX' --join $file_path >> 'output.tsv'\n",
        "\n"
      ],
      "metadata": {
        "id": "86nkWoBo02t3"
      },
      "execution_count": 18,
      "outputs": []
    },
    {
      "cell_type": "code",
      "source": [
        "for clr in clrs:\n",
        "  print(clr.bins().columns.tolist())\n"
      ],
      "metadata": {
        "colab": {
          "base_uri": "https://localhost:8080/"
        },
        "id": "J0cTTy4o5FKo",
        "outputId": "312ebcaa-8d89-48af-ee22-652cf6ce75de"
      },
      "execution_count": 20,
      "outputs": [
        {
          "output_type": "stream",
          "name": "stdout",
          "text": [
            "['chrom', 'start', 'end', 'weight']\n",
            "['chrom', 'start', 'end', 'weight']\n",
            "['chrom', 'start', 'end', 'weight']\n",
            "['chrom', 'start', 'end', 'weight']\n"
          ]
        }
      ]
    },
    {
      "cell_type": "code",
      "source": [
        "clrs[0].bins()[:]"
      ],
      "metadata": {
        "colab": {
          "base_uri": "https://localhost:8080/",
          "height": 424
        },
        "id": "C_hiRDNp6nLQ",
        "outputId": "88a701b4-1096-4064-f241-8c1083af0ff3"
      },
      "execution_count": 23,
      "outputs": [
        {
          "output_type": "execute_result",
          "data": {
            "text/plain": [
              "      chrom     start       end    weight\n",
              "0     chr2L         0     20000  0.015414\n",
              "1     chr2L     20000     40000  0.012686\n",
              "2     chr2L     40000     60000  0.017035\n",
              "3     chr2L     60000     80000  0.010652\n",
              "4     chr2L     80000    100000  0.010251\n",
              "...     ...       ...       ...       ...\n",
              "6019   chrX  22360000  22380000  0.028927\n",
              "6020   chrX  22380000  22400000  0.020546\n",
              "6021   chrX  22400000  22420000  0.040442\n",
              "6022   chrX  22420000  22422827       NaN\n",
              "6023   chrM         0     19517  2.949650\n",
              "\n",
              "[6024 rows x 4 columns]"
            ],
            "text/html": [
              "\n",
              "  <div id=\"df-546ab45d-da47-403c-ac31-5bdeadbd8b2b\" class=\"colab-df-container\">\n",
              "    <div>\n",
              "<style scoped>\n",
              "    .dataframe tbody tr th:only-of-type {\n",
              "        vertical-align: middle;\n",
              "    }\n",
              "\n",
              "    .dataframe tbody tr th {\n",
              "        vertical-align: top;\n",
              "    }\n",
              "\n",
              "    .dataframe thead th {\n",
              "        text-align: right;\n",
              "    }\n",
              "</style>\n",
              "<table border=\"1\" class=\"dataframe\">\n",
              "  <thead>\n",
              "    <tr style=\"text-align: right;\">\n",
              "      <th></th>\n",
              "      <th>chrom</th>\n",
              "      <th>start</th>\n",
              "      <th>end</th>\n",
              "      <th>weight</th>\n",
              "    </tr>\n",
              "  </thead>\n",
              "  <tbody>\n",
              "    <tr>\n",
              "      <th>0</th>\n",
              "      <td>chr2L</td>\n",
              "      <td>0</td>\n",
              "      <td>20000</td>\n",
              "      <td>0.015414</td>\n",
              "    </tr>\n",
              "    <tr>\n",
              "      <th>1</th>\n",
              "      <td>chr2L</td>\n",
              "      <td>20000</td>\n",
              "      <td>40000</td>\n",
              "      <td>0.012686</td>\n",
              "    </tr>\n",
              "    <tr>\n",
              "      <th>2</th>\n",
              "      <td>chr2L</td>\n",
              "      <td>40000</td>\n",
              "      <td>60000</td>\n",
              "      <td>0.017035</td>\n",
              "    </tr>\n",
              "    <tr>\n",
              "      <th>3</th>\n",
              "      <td>chr2L</td>\n",
              "      <td>60000</td>\n",
              "      <td>80000</td>\n",
              "      <td>0.010652</td>\n",
              "    </tr>\n",
              "    <tr>\n",
              "      <th>4</th>\n",
              "      <td>chr2L</td>\n",
              "      <td>80000</td>\n",
              "      <td>100000</td>\n",
              "      <td>0.010251</td>\n",
              "    </tr>\n",
              "    <tr>\n",
              "      <th>...</th>\n",
              "      <td>...</td>\n",
              "      <td>...</td>\n",
              "      <td>...</td>\n",
              "      <td>...</td>\n",
              "    </tr>\n",
              "    <tr>\n",
              "      <th>6019</th>\n",
              "      <td>chrX</td>\n",
              "      <td>22360000</td>\n",
              "      <td>22380000</td>\n",
              "      <td>0.028927</td>\n",
              "    </tr>\n",
              "    <tr>\n",
              "      <th>6020</th>\n",
              "      <td>chrX</td>\n",
              "      <td>22380000</td>\n",
              "      <td>22400000</td>\n",
              "      <td>0.020546</td>\n",
              "    </tr>\n",
              "    <tr>\n",
              "      <th>6021</th>\n",
              "      <td>chrX</td>\n",
              "      <td>22400000</td>\n",
              "      <td>22420000</td>\n",
              "      <td>0.040442</td>\n",
              "    </tr>\n",
              "    <tr>\n",
              "      <th>6022</th>\n",
              "      <td>chrX</td>\n",
              "      <td>22420000</td>\n",
              "      <td>22422827</td>\n",
              "      <td>NaN</td>\n",
              "    </tr>\n",
              "    <tr>\n",
              "      <th>6023</th>\n",
              "      <td>chrM</td>\n",
              "      <td>0</td>\n",
              "      <td>19517</td>\n",
              "      <td>2.949650</td>\n",
              "    </tr>\n",
              "  </tbody>\n",
              "</table>\n",
              "<p>6024 rows × 4 columns</p>\n",
              "</div>\n",
              "    <div class=\"colab-df-buttons\">\n",
              "\n",
              "  <div class=\"colab-df-container\">\n",
              "    <button class=\"colab-df-convert\" onclick=\"convertToInteractive('df-546ab45d-da47-403c-ac31-5bdeadbd8b2b')\"\n",
              "            title=\"Convert this dataframe to an interactive table.\"\n",
              "            style=\"display:none;\">\n",
              "\n",
              "  <svg xmlns=\"http://www.w3.org/2000/svg\" height=\"24px\" viewBox=\"0 -960 960 960\">\n",
              "    <path d=\"M120-120v-720h720v720H120Zm60-500h600v-160H180v160Zm220 220h160v-160H400v160Zm0 220h160v-160H400v160ZM180-400h160v-160H180v160Zm440 0h160v-160H620v160ZM180-180h160v-160H180v160Zm440 0h160v-160H620v160Z\"/>\n",
              "  </svg>\n",
              "    </button>\n",
              "\n",
              "  <style>\n",
              "    .colab-df-container {\n",
              "      display:flex;\n",
              "      gap: 12px;\n",
              "    }\n",
              "\n",
              "    .colab-df-convert {\n",
              "      background-color: #E8F0FE;\n",
              "      border: none;\n",
              "      border-radius: 50%;\n",
              "      cursor: pointer;\n",
              "      display: none;\n",
              "      fill: #1967D2;\n",
              "      height: 32px;\n",
              "      padding: 0 0 0 0;\n",
              "      width: 32px;\n",
              "    }\n",
              "\n",
              "    .colab-df-convert:hover {\n",
              "      background-color: #E2EBFA;\n",
              "      box-shadow: 0px 1px 2px rgba(60, 64, 67, 0.3), 0px 1px 3px 1px rgba(60, 64, 67, 0.15);\n",
              "      fill: #174EA6;\n",
              "    }\n",
              "\n",
              "    .colab-df-buttons div {\n",
              "      margin-bottom: 4px;\n",
              "    }\n",
              "\n",
              "    [theme=dark] .colab-df-convert {\n",
              "      background-color: #3B4455;\n",
              "      fill: #D2E3FC;\n",
              "    }\n",
              "\n",
              "    [theme=dark] .colab-df-convert:hover {\n",
              "      background-color: #434B5C;\n",
              "      box-shadow: 0px 1px 3px 1px rgba(0, 0, 0, 0.15);\n",
              "      filter: drop-shadow(0px 1px 2px rgba(0, 0, 0, 0.3));\n",
              "      fill: #FFFFFF;\n",
              "    }\n",
              "  </style>\n",
              "\n",
              "    <script>\n",
              "      const buttonEl =\n",
              "        document.querySelector('#df-546ab45d-da47-403c-ac31-5bdeadbd8b2b button.colab-df-convert');\n",
              "      buttonEl.style.display =\n",
              "        google.colab.kernel.accessAllowed ? 'block' : 'none';\n",
              "\n",
              "      async function convertToInteractive(key) {\n",
              "        const element = document.querySelector('#df-546ab45d-da47-403c-ac31-5bdeadbd8b2b');\n",
              "        const dataTable =\n",
              "          await google.colab.kernel.invokeFunction('convertToInteractive',\n",
              "                                                    [key], {});\n",
              "        if (!dataTable) return;\n",
              "\n",
              "        const docLinkHtml = 'Like what you see? Visit the ' +\n",
              "          '<a target=\"_blank\" href=https://colab.research.google.com/notebooks/data_table.ipynb>data table notebook</a>'\n",
              "          + ' to learn more about interactive tables.';\n",
              "        element.innerHTML = '';\n",
              "        dataTable['output_type'] = 'display_data';\n",
              "        await google.colab.output.renderOutput(dataTable, element);\n",
              "        const docLink = document.createElement('div');\n",
              "        docLink.innerHTML = docLinkHtml;\n",
              "        element.appendChild(docLink);\n",
              "      }\n",
              "    </script>\n",
              "  </div>\n",
              "\n",
              "\n",
              "<div id=\"df-814a3a61-68c7-49d0-a850-5e57e1dfdff9\">\n",
              "  <button class=\"colab-df-quickchart\" onclick=\"quickchart('df-814a3a61-68c7-49d0-a850-5e57e1dfdff9')\"\n",
              "            title=\"Suggest charts\"\n",
              "            style=\"display:none;\">\n",
              "\n",
              "<svg xmlns=\"http://www.w3.org/2000/svg\" height=\"24px\"viewBox=\"0 0 24 24\"\n",
              "     width=\"24px\">\n",
              "    <g>\n",
              "        <path d=\"M19 3H5c-1.1 0-2 .9-2 2v14c0 1.1.9 2 2 2h14c1.1 0 2-.9 2-2V5c0-1.1-.9-2-2-2zM9 17H7v-7h2v7zm4 0h-2V7h2v10zm4 0h-2v-4h2v4z\"/>\n",
              "    </g>\n",
              "</svg>\n",
              "  </button>\n",
              "\n",
              "<style>\n",
              "  .colab-df-quickchart {\n",
              "      --bg-color: #E8F0FE;\n",
              "      --fill-color: #1967D2;\n",
              "      --hover-bg-color: #E2EBFA;\n",
              "      --hover-fill-color: #174EA6;\n",
              "      --disabled-fill-color: #AAA;\n",
              "      --disabled-bg-color: #DDD;\n",
              "  }\n",
              "\n",
              "  [theme=dark] .colab-df-quickchart {\n",
              "      --bg-color: #3B4455;\n",
              "      --fill-color: #D2E3FC;\n",
              "      --hover-bg-color: #434B5C;\n",
              "      --hover-fill-color: #FFFFFF;\n",
              "      --disabled-bg-color: #3B4455;\n",
              "      --disabled-fill-color: #666;\n",
              "  }\n",
              "\n",
              "  .colab-df-quickchart {\n",
              "    background-color: var(--bg-color);\n",
              "    border: none;\n",
              "    border-radius: 50%;\n",
              "    cursor: pointer;\n",
              "    display: none;\n",
              "    fill: var(--fill-color);\n",
              "    height: 32px;\n",
              "    padding: 0;\n",
              "    width: 32px;\n",
              "  }\n",
              "\n",
              "  .colab-df-quickchart:hover {\n",
              "    background-color: var(--hover-bg-color);\n",
              "    box-shadow: 0 1px 2px rgba(60, 64, 67, 0.3), 0 1px 3px 1px rgba(60, 64, 67, 0.15);\n",
              "    fill: var(--button-hover-fill-color);\n",
              "  }\n",
              "\n",
              "  .colab-df-quickchart-complete:disabled,\n",
              "  .colab-df-quickchart-complete:disabled:hover {\n",
              "    background-color: var(--disabled-bg-color);\n",
              "    fill: var(--disabled-fill-color);\n",
              "    box-shadow: none;\n",
              "  }\n",
              "\n",
              "  .colab-df-spinner {\n",
              "    border: 2px solid var(--fill-color);\n",
              "    border-color: transparent;\n",
              "    border-bottom-color: var(--fill-color);\n",
              "    animation:\n",
              "      spin 1s steps(1) infinite;\n",
              "  }\n",
              "\n",
              "  @keyframes spin {\n",
              "    0% {\n",
              "      border-color: transparent;\n",
              "      border-bottom-color: var(--fill-color);\n",
              "      border-left-color: var(--fill-color);\n",
              "    }\n",
              "    20% {\n",
              "      border-color: transparent;\n",
              "      border-left-color: var(--fill-color);\n",
              "      border-top-color: var(--fill-color);\n",
              "    }\n",
              "    30% {\n",
              "      border-color: transparent;\n",
              "      border-left-color: var(--fill-color);\n",
              "      border-top-color: var(--fill-color);\n",
              "      border-right-color: var(--fill-color);\n",
              "    }\n",
              "    40% {\n",
              "      border-color: transparent;\n",
              "      border-right-color: var(--fill-color);\n",
              "      border-top-color: var(--fill-color);\n",
              "    }\n",
              "    60% {\n",
              "      border-color: transparent;\n",
              "      border-right-color: var(--fill-color);\n",
              "    }\n",
              "    80% {\n",
              "      border-color: transparent;\n",
              "      border-right-color: var(--fill-color);\n",
              "      border-bottom-color: var(--fill-color);\n",
              "    }\n",
              "    90% {\n",
              "      border-color: transparent;\n",
              "      border-bottom-color: var(--fill-color);\n",
              "    }\n",
              "  }\n",
              "</style>\n",
              "\n",
              "  <script>\n",
              "    async function quickchart(key) {\n",
              "      const quickchartButtonEl =\n",
              "        document.querySelector('#' + key + ' button');\n",
              "      quickchartButtonEl.disabled = true;  // To prevent multiple clicks.\n",
              "      quickchartButtonEl.classList.add('colab-df-spinner');\n",
              "      try {\n",
              "        const charts = await google.colab.kernel.invokeFunction(\n",
              "            'suggestCharts', [key], {});\n",
              "      } catch (error) {\n",
              "        console.error('Error during call to suggestCharts:', error);\n",
              "      }\n",
              "      quickchartButtonEl.classList.remove('colab-df-spinner');\n",
              "      quickchartButtonEl.classList.add('colab-df-quickchart-complete');\n",
              "    }\n",
              "    (() => {\n",
              "      let quickchartButtonEl =\n",
              "        document.querySelector('#df-814a3a61-68c7-49d0-a850-5e57e1dfdff9 button');\n",
              "      quickchartButtonEl.style.display =\n",
              "        google.colab.kernel.accessAllowed ? 'block' : 'none';\n",
              "    })();\n",
              "  </script>\n",
              "</div>\n",
              "    </div>\n",
              "  </div>\n"
            ],
            "application/vnd.google.colaboratory.intrinsic+json": {
              "type": "dataframe",
              "summary": "{\n  \"name\": \"clrs[0]\",\n  \"rows\": 6024,\n  \"fields\": [\n    {\n      \"column\": \"chrom\",\n      \"properties\": {\n        \"dtype\": \"category\",\n        \"num_unique_values\": 7,\n        \"samples\": [\n          \"chr2L\",\n          \"chr2R\",\n          \"chrX\"\n        ],\n        \"semantic_type\": \"\",\n        \"description\": \"\"\n      }\n    },\n    {\n      \"column\": \"start\",\n      \"properties\": {\n        \"dtype\": \"int32\",\n        \"num_unique_values\": 1396,\n        \"samples\": [\n          15960000,\n          20440000,\n          17460000\n        ],\n        \"semantic_type\": \"\",\n        \"description\": \"\"\n      }\n    },\n    {\n      \"column\": \"end\",\n      \"properties\": {\n        \"dtype\": \"int32\",\n        \"num_unique_values\": 1402,\n        \"samples\": [\n          21880000,\n          18980000,\n          1000000\n        ],\n        \"semantic_type\": \"\",\n        \"description\": \"\"\n      }\n    },\n    {\n      \"column\": \"weight\",\n      \"properties\": {\n        \"dtype\": \"number\",\n        \"std\": 0.03873754486703748,\n        \"min\": 0.002072963781299542,\n        \"max\": 2.9496503754053656,\n        \"num_unique_values\": 5841,\n        \"samples\": [\n          0.012549935783154739,\n          0.007785005466372549,\n          0.01305700543567945\n        ],\n        \"semantic_type\": \"\",\n        \"description\": \"\"\n      }\n    }\n  ]\n}"
            }
          },
          "metadata": {},
          "execution_count": 23
        }
      ]
    },
    {
      "cell_type": "markdown",
      "source": [
        "То же самое для одного файла:"
      ],
      "metadata": {
        "id": "xCkb_ZvJ7UsO"
      }
    },
    {
      "cell_type": "code",
      "source": [
        "m=clr.matrix().fetch('chrX')"
      ],
      "metadata": {
        "id": "0bv3-eusKlKN"
      },
      "execution_count": 24,
      "outputs": []
    },
    {
      "cell_type": "code",
      "source": [
        "m"
      ],
      "metadata": {
        "colab": {
          "base_uri": "https://localhost:8080/"
        },
        "id": "mhKbL2Xr4UW8",
        "outputId": "54988459-c4f0-4e04-9511-1f7739416cce"
      },
      "execution_count": 25,
      "outputs": [
        {
          "output_type": "execute_result",
          "data": {
            "text/plain": [
              "array([[       nan,        nan,        nan, ...,        nan,        nan,\n",
              "               nan],\n",
              "       [       nan,        nan,        nan, ...,        nan,        nan,\n",
              "               nan],\n",
              "       [       nan,        nan,        nan, ...,        nan,        nan,\n",
              "               nan],\n",
              "       ...,\n",
              "       [       nan,        nan,        nan, ..., 0.56455257,        nan,\n",
              "               nan],\n",
              "       [       nan,        nan,        nan, ...,        nan,        nan,\n",
              "               nan],\n",
              "       [       nan,        nan,        nan, ...,        nan,        nan,\n",
              "               nan]])"
            ]
          },
          "metadata": {},
          "execution_count": 25
        }
      ]
    },
    {
      "cell_type": "code",
      "source": [
        "pix=clr.pixels()[:]"
      ],
      "metadata": {
        "id": "RglNL-7WMjSb"
      },
      "execution_count": 26,
      "outputs": []
    },
    {
      "cell_type": "code",
      "source": [
        "pix"
      ],
      "metadata": {
        "id": "hd4RzqynA_K1",
        "colab": {
          "base_uri": "https://localhost:8080/",
          "height": 424
        },
        "outputId": "4c2c6f4a-104a-4625-d39a-b327aced7532"
      },
      "execution_count": 27,
      "outputs": [
        {
          "output_type": "execute_result",
          "data": {
            "text/plain": [
              "         bin1_id  bin2_id  count\n",
              "0              0        0      1\n",
              "1              2        2     58\n",
              "2              2        3    111\n",
              "3              2        4     30\n",
              "4              2        5     16\n",
              "...          ...      ...    ...\n",
              "5689698     6020     6022     41\n",
              "5689699     6021     6021   1872\n",
              "5689700     6021     6022     39\n",
              "5689701     6022     6022    207\n",
              "5689702     6023     6023    188\n",
              "\n",
              "[5689703 rows x 3 columns]"
            ],
            "text/html": [
              "\n",
              "  <div id=\"df-9198e7ee-f0b8-4cda-9b4d-c8593056465a\" class=\"colab-df-container\">\n",
              "    <div>\n",
              "<style scoped>\n",
              "    .dataframe tbody tr th:only-of-type {\n",
              "        vertical-align: middle;\n",
              "    }\n",
              "\n",
              "    .dataframe tbody tr th {\n",
              "        vertical-align: top;\n",
              "    }\n",
              "\n",
              "    .dataframe thead th {\n",
              "        text-align: right;\n",
              "    }\n",
              "</style>\n",
              "<table border=\"1\" class=\"dataframe\">\n",
              "  <thead>\n",
              "    <tr style=\"text-align: right;\">\n",
              "      <th></th>\n",
              "      <th>bin1_id</th>\n",
              "      <th>bin2_id</th>\n",
              "      <th>count</th>\n",
              "    </tr>\n",
              "  </thead>\n",
              "  <tbody>\n",
              "    <tr>\n",
              "      <th>0</th>\n",
              "      <td>0</td>\n",
              "      <td>0</td>\n",
              "      <td>1</td>\n",
              "    </tr>\n",
              "    <tr>\n",
              "      <th>1</th>\n",
              "      <td>2</td>\n",
              "      <td>2</td>\n",
              "      <td>58</td>\n",
              "    </tr>\n",
              "    <tr>\n",
              "      <th>2</th>\n",
              "      <td>2</td>\n",
              "      <td>3</td>\n",
              "      <td>111</td>\n",
              "    </tr>\n",
              "    <tr>\n",
              "      <th>3</th>\n",
              "      <td>2</td>\n",
              "      <td>4</td>\n",
              "      <td>30</td>\n",
              "    </tr>\n",
              "    <tr>\n",
              "      <th>4</th>\n",
              "      <td>2</td>\n",
              "      <td>5</td>\n",
              "      <td>16</td>\n",
              "    </tr>\n",
              "    <tr>\n",
              "      <th>...</th>\n",
              "      <td>...</td>\n",
              "      <td>...</td>\n",
              "      <td>...</td>\n",
              "    </tr>\n",
              "    <tr>\n",
              "      <th>5689698</th>\n",
              "      <td>6020</td>\n",
              "      <td>6022</td>\n",
              "      <td>41</td>\n",
              "    </tr>\n",
              "    <tr>\n",
              "      <th>5689699</th>\n",
              "      <td>6021</td>\n",
              "      <td>6021</td>\n",
              "      <td>1872</td>\n",
              "    </tr>\n",
              "    <tr>\n",
              "      <th>5689700</th>\n",
              "      <td>6021</td>\n",
              "      <td>6022</td>\n",
              "      <td>39</td>\n",
              "    </tr>\n",
              "    <tr>\n",
              "      <th>5689701</th>\n",
              "      <td>6022</td>\n",
              "      <td>6022</td>\n",
              "      <td>207</td>\n",
              "    </tr>\n",
              "    <tr>\n",
              "      <th>5689702</th>\n",
              "      <td>6023</td>\n",
              "      <td>6023</td>\n",
              "      <td>188</td>\n",
              "    </tr>\n",
              "  </tbody>\n",
              "</table>\n",
              "<p>5689703 rows × 3 columns</p>\n",
              "</div>\n",
              "    <div class=\"colab-df-buttons\">\n",
              "\n",
              "  <div class=\"colab-df-container\">\n",
              "    <button class=\"colab-df-convert\" onclick=\"convertToInteractive('df-9198e7ee-f0b8-4cda-9b4d-c8593056465a')\"\n",
              "            title=\"Convert this dataframe to an interactive table.\"\n",
              "            style=\"display:none;\">\n",
              "\n",
              "  <svg xmlns=\"http://www.w3.org/2000/svg\" height=\"24px\" viewBox=\"0 -960 960 960\">\n",
              "    <path d=\"M120-120v-720h720v720H120Zm60-500h600v-160H180v160Zm220 220h160v-160H400v160Zm0 220h160v-160H400v160ZM180-400h160v-160H180v160Zm440 0h160v-160H620v160ZM180-180h160v-160H180v160Zm440 0h160v-160H620v160Z\"/>\n",
              "  </svg>\n",
              "    </button>\n",
              "\n",
              "  <style>\n",
              "    .colab-df-container {\n",
              "      display:flex;\n",
              "      gap: 12px;\n",
              "    }\n",
              "\n",
              "    .colab-df-convert {\n",
              "      background-color: #E8F0FE;\n",
              "      border: none;\n",
              "      border-radius: 50%;\n",
              "      cursor: pointer;\n",
              "      display: none;\n",
              "      fill: #1967D2;\n",
              "      height: 32px;\n",
              "      padding: 0 0 0 0;\n",
              "      width: 32px;\n",
              "    }\n",
              "\n",
              "    .colab-df-convert:hover {\n",
              "      background-color: #E2EBFA;\n",
              "      box-shadow: 0px 1px 2px rgba(60, 64, 67, 0.3), 0px 1px 3px 1px rgba(60, 64, 67, 0.15);\n",
              "      fill: #174EA6;\n",
              "    }\n",
              "\n",
              "    .colab-df-buttons div {\n",
              "      margin-bottom: 4px;\n",
              "    }\n",
              "\n",
              "    [theme=dark] .colab-df-convert {\n",
              "      background-color: #3B4455;\n",
              "      fill: #D2E3FC;\n",
              "    }\n",
              "\n",
              "    [theme=dark] .colab-df-convert:hover {\n",
              "      background-color: #434B5C;\n",
              "      box-shadow: 0px 1px 3px 1px rgba(0, 0, 0, 0.15);\n",
              "      filter: drop-shadow(0px 1px 2px rgba(0, 0, 0, 0.3));\n",
              "      fill: #FFFFFF;\n",
              "    }\n",
              "  </style>\n",
              "\n",
              "    <script>\n",
              "      const buttonEl =\n",
              "        document.querySelector('#df-9198e7ee-f0b8-4cda-9b4d-c8593056465a button.colab-df-convert');\n",
              "      buttonEl.style.display =\n",
              "        google.colab.kernel.accessAllowed ? 'block' : 'none';\n",
              "\n",
              "      async function convertToInteractive(key) {\n",
              "        const element = document.querySelector('#df-9198e7ee-f0b8-4cda-9b4d-c8593056465a');\n",
              "        const dataTable =\n",
              "          await google.colab.kernel.invokeFunction('convertToInteractive',\n",
              "                                                    [key], {});\n",
              "        if (!dataTable) return;\n",
              "\n",
              "        const docLinkHtml = 'Like what you see? Visit the ' +\n",
              "          '<a target=\"_blank\" href=https://colab.research.google.com/notebooks/data_table.ipynb>data table notebook</a>'\n",
              "          + ' to learn more about interactive tables.';\n",
              "        element.innerHTML = '';\n",
              "        dataTable['output_type'] = 'display_data';\n",
              "        await google.colab.output.renderOutput(dataTable, element);\n",
              "        const docLink = document.createElement('div');\n",
              "        docLink.innerHTML = docLinkHtml;\n",
              "        element.appendChild(docLink);\n",
              "      }\n",
              "    </script>\n",
              "  </div>\n",
              "\n",
              "\n",
              "<div id=\"df-e1a1138c-adc0-47ac-9e68-4af762996455\">\n",
              "  <button class=\"colab-df-quickchart\" onclick=\"quickchart('df-e1a1138c-adc0-47ac-9e68-4af762996455')\"\n",
              "            title=\"Suggest charts\"\n",
              "            style=\"display:none;\">\n",
              "\n",
              "<svg xmlns=\"http://www.w3.org/2000/svg\" height=\"24px\"viewBox=\"0 0 24 24\"\n",
              "     width=\"24px\">\n",
              "    <g>\n",
              "        <path d=\"M19 3H5c-1.1 0-2 .9-2 2v14c0 1.1.9 2 2 2h14c1.1 0 2-.9 2-2V5c0-1.1-.9-2-2-2zM9 17H7v-7h2v7zm4 0h-2V7h2v10zm4 0h-2v-4h2v4z\"/>\n",
              "    </g>\n",
              "</svg>\n",
              "  </button>\n",
              "\n",
              "<style>\n",
              "  .colab-df-quickchart {\n",
              "      --bg-color: #E8F0FE;\n",
              "      --fill-color: #1967D2;\n",
              "      --hover-bg-color: #E2EBFA;\n",
              "      --hover-fill-color: #174EA6;\n",
              "      --disabled-fill-color: #AAA;\n",
              "      --disabled-bg-color: #DDD;\n",
              "  }\n",
              "\n",
              "  [theme=dark] .colab-df-quickchart {\n",
              "      --bg-color: #3B4455;\n",
              "      --fill-color: #D2E3FC;\n",
              "      --hover-bg-color: #434B5C;\n",
              "      --hover-fill-color: #FFFFFF;\n",
              "      --disabled-bg-color: #3B4455;\n",
              "      --disabled-fill-color: #666;\n",
              "  }\n",
              "\n",
              "  .colab-df-quickchart {\n",
              "    background-color: var(--bg-color);\n",
              "    border: none;\n",
              "    border-radius: 50%;\n",
              "    cursor: pointer;\n",
              "    display: none;\n",
              "    fill: var(--fill-color);\n",
              "    height: 32px;\n",
              "    padding: 0;\n",
              "    width: 32px;\n",
              "  }\n",
              "\n",
              "  .colab-df-quickchart:hover {\n",
              "    background-color: var(--hover-bg-color);\n",
              "    box-shadow: 0 1px 2px rgba(60, 64, 67, 0.3), 0 1px 3px 1px rgba(60, 64, 67, 0.15);\n",
              "    fill: var(--button-hover-fill-color);\n",
              "  }\n",
              "\n",
              "  .colab-df-quickchart-complete:disabled,\n",
              "  .colab-df-quickchart-complete:disabled:hover {\n",
              "    background-color: var(--disabled-bg-color);\n",
              "    fill: var(--disabled-fill-color);\n",
              "    box-shadow: none;\n",
              "  }\n",
              "\n",
              "  .colab-df-spinner {\n",
              "    border: 2px solid var(--fill-color);\n",
              "    border-color: transparent;\n",
              "    border-bottom-color: var(--fill-color);\n",
              "    animation:\n",
              "      spin 1s steps(1) infinite;\n",
              "  }\n",
              "\n",
              "  @keyframes spin {\n",
              "    0% {\n",
              "      border-color: transparent;\n",
              "      border-bottom-color: var(--fill-color);\n",
              "      border-left-color: var(--fill-color);\n",
              "    }\n",
              "    20% {\n",
              "      border-color: transparent;\n",
              "      border-left-color: var(--fill-color);\n",
              "      border-top-color: var(--fill-color);\n",
              "    }\n",
              "    30% {\n",
              "      border-color: transparent;\n",
              "      border-left-color: var(--fill-color);\n",
              "      border-top-color: var(--fill-color);\n",
              "      border-right-color: var(--fill-color);\n",
              "    }\n",
              "    40% {\n",
              "      border-color: transparent;\n",
              "      border-right-color: var(--fill-color);\n",
              "      border-top-color: var(--fill-color);\n",
              "    }\n",
              "    60% {\n",
              "      border-color: transparent;\n",
              "      border-right-color: var(--fill-color);\n",
              "    }\n",
              "    80% {\n",
              "      border-color: transparent;\n",
              "      border-right-color: var(--fill-color);\n",
              "      border-bottom-color: var(--fill-color);\n",
              "    }\n",
              "    90% {\n",
              "      border-color: transparent;\n",
              "      border-bottom-color: var(--fill-color);\n",
              "    }\n",
              "  }\n",
              "</style>\n",
              "\n",
              "  <script>\n",
              "    async function quickchart(key) {\n",
              "      const quickchartButtonEl =\n",
              "        document.querySelector('#' + key + ' button');\n",
              "      quickchartButtonEl.disabled = true;  // To prevent multiple clicks.\n",
              "      quickchartButtonEl.classList.add('colab-df-spinner');\n",
              "      try {\n",
              "        const charts = await google.colab.kernel.invokeFunction(\n",
              "            'suggestCharts', [key], {});\n",
              "      } catch (error) {\n",
              "        console.error('Error during call to suggestCharts:', error);\n",
              "      }\n",
              "      quickchartButtonEl.classList.remove('colab-df-spinner');\n",
              "      quickchartButtonEl.classList.add('colab-df-quickchart-complete');\n",
              "    }\n",
              "    (() => {\n",
              "      let quickchartButtonEl =\n",
              "        document.querySelector('#df-e1a1138c-adc0-47ac-9e68-4af762996455 button');\n",
              "      quickchartButtonEl.style.display =\n",
              "        google.colab.kernel.accessAllowed ? 'block' : 'none';\n",
              "    })();\n",
              "  </script>\n",
              "</div>\n",
              "    </div>\n",
              "  </div>\n"
            ],
            "application/vnd.google.colaboratory.intrinsic+json": {
              "type": "dataframe",
              "variable_name": "pix"
            }
          },
          "metadata": {},
          "execution_count": 27
        }
      ]
    },
    {
      "cell_type": "code",
      "source": [
        "bins=clr.bins()[:]"
      ],
      "metadata": {
        "id": "eqOAvjUAMuZF"
      },
      "execution_count": 26,
      "outputs": []
    },
    {
      "cell_type": "code",
      "source": [
        "bins"
      ],
      "metadata": {
        "id": "l8U8n8Rzj8gY",
        "colab": {
          "base_uri": "https://localhost:8080/",
          "height": 424
        },
        "outputId": "44f3be37-d5b9-469e-9bf0-7576044811b3"
      },
      "execution_count": 27,
      "outputs": [
        {
          "output_type": "execute_result",
          "data": {
            "text/plain": [
              "      chrom     start       end    weight\n",
              "0     chr2L         0     20000  0.015414\n",
              "1     chr2L     20000     40000  0.012686\n",
              "2     chr2L     40000     60000  0.017035\n",
              "3     chr2L     60000     80000  0.010652\n",
              "4     chr2L     80000    100000  0.010251\n",
              "...     ...       ...       ...       ...\n",
              "6019   chrX  22360000  22380000  0.028927\n",
              "6020   chrX  22380000  22400000  0.020546\n",
              "6021   chrX  22400000  22420000  0.040442\n",
              "6022   chrX  22420000  22422827       NaN\n",
              "6023   chrM         0     19517  2.949650\n",
              "\n",
              "[6024 rows x 4 columns]"
            ],
            "text/html": [
              "\n",
              "  <div id=\"df-6b24bd15-976f-4a95-9ae4-f17ee6ba635c\" class=\"colab-df-container\">\n",
              "    <div>\n",
              "<style scoped>\n",
              "    .dataframe tbody tr th:only-of-type {\n",
              "        vertical-align: middle;\n",
              "    }\n",
              "\n",
              "    .dataframe tbody tr th {\n",
              "        vertical-align: top;\n",
              "    }\n",
              "\n",
              "    .dataframe thead th {\n",
              "        text-align: right;\n",
              "    }\n",
              "</style>\n",
              "<table border=\"1\" class=\"dataframe\">\n",
              "  <thead>\n",
              "    <tr style=\"text-align: right;\">\n",
              "      <th></th>\n",
              "      <th>chrom</th>\n",
              "      <th>start</th>\n",
              "      <th>end</th>\n",
              "      <th>weight</th>\n",
              "    </tr>\n",
              "  </thead>\n",
              "  <tbody>\n",
              "    <tr>\n",
              "      <th>0</th>\n",
              "      <td>chr2L</td>\n",
              "      <td>0</td>\n",
              "      <td>20000</td>\n",
              "      <td>0.015414</td>\n",
              "    </tr>\n",
              "    <tr>\n",
              "      <th>1</th>\n",
              "      <td>chr2L</td>\n",
              "      <td>20000</td>\n",
              "      <td>40000</td>\n",
              "      <td>0.012686</td>\n",
              "    </tr>\n",
              "    <tr>\n",
              "      <th>2</th>\n",
              "      <td>chr2L</td>\n",
              "      <td>40000</td>\n",
              "      <td>60000</td>\n",
              "      <td>0.017035</td>\n",
              "    </tr>\n",
              "    <tr>\n",
              "      <th>3</th>\n",
              "      <td>chr2L</td>\n",
              "      <td>60000</td>\n",
              "      <td>80000</td>\n",
              "      <td>0.010652</td>\n",
              "    </tr>\n",
              "    <tr>\n",
              "      <th>4</th>\n",
              "      <td>chr2L</td>\n",
              "      <td>80000</td>\n",
              "      <td>100000</td>\n",
              "      <td>0.010251</td>\n",
              "    </tr>\n",
              "    <tr>\n",
              "      <th>...</th>\n",
              "      <td>...</td>\n",
              "      <td>...</td>\n",
              "      <td>...</td>\n",
              "      <td>...</td>\n",
              "    </tr>\n",
              "    <tr>\n",
              "      <th>6019</th>\n",
              "      <td>chrX</td>\n",
              "      <td>22360000</td>\n",
              "      <td>22380000</td>\n",
              "      <td>0.028927</td>\n",
              "    </tr>\n",
              "    <tr>\n",
              "      <th>6020</th>\n",
              "      <td>chrX</td>\n",
              "      <td>22380000</td>\n",
              "      <td>22400000</td>\n",
              "      <td>0.020546</td>\n",
              "    </tr>\n",
              "    <tr>\n",
              "      <th>6021</th>\n",
              "      <td>chrX</td>\n",
              "      <td>22400000</td>\n",
              "      <td>22420000</td>\n",
              "      <td>0.040442</td>\n",
              "    </tr>\n",
              "    <tr>\n",
              "      <th>6022</th>\n",
              "      <td>chrX</td>\n",
              "      <td>22420000</td>\n",
              "      <td>22422827</td>\n",
              "      <td>NaN</td>\n",
              "    </tr>\n",
              "    <tr>\n",
              "      <th>6023</th>\n",
              "      <td>chrM</td>\n",
              "      <td>0</td>\n",
              "      <td>19517</td>\n",
              "      <td>2.949650</td>\n",
              "    </tr>\n",
              "  </tbody>\n",
              "</table>\n",
              "<p>6024 rows × 4 columns</p>\n",
              "</div>\n",
              "    <div class=\"colab-df-buttons\">\n",
              "\n",
              "  <div class=\"colab-df-container\">\n",
              "    <button class=\"colab-df-convert\" onclick=\"convertToInteractive('df-6b24bd15-976f-4a95-9ae4-f17ee6ba635c')\"\n",
              "            title=\"Convert this dataframe to an interactive table.\"\n",
              "            style=\"display:none;\">\n",
              "\n",
              "  <svg xmlns=\"http://www.w3.org/2000/svg\" height=\"24px\" viewBox=\"0 -960 960 960\">\n",
              "    <path d=\"M120-120v-720h720v720H120Zm60-500h600v-160H180v160Zm220 220h160v-160H400v160Zm0 220h160v-160H400v160ZM180-400h160v-160H180v160Zm440 0h160v-160H620v160ZM180-180h160v-160H180v160Zm440 0h160v-160H620v160Z\"/>\n",
              "  </svg>\n",
              "    </button>\n",
              "\n",
              "  <style>\n",
              "    .colab-df-container {\n",
              "      display:flex;\n",
              "      gap: 12px;\n",
              "    }\n",
              "\n",
              "    .colab-df-convert {\n",
              "      background-color: #E8F0FE;\n",
              "      border: none;\n",
              "      border-radius: 50%;\n",
              "      cursor: pointer;\n",
              "      display: none;\n",
              "      fill: #1967D2;\n",
              "      height: 32px;\n",
              "      padding: 0 0 0 0;\n",
              "      width: 32px;\n",
              "    }\n",
              "\n",
              "    .colab-df-convert:hover {\n",
              "      background-color: #E2EBFA;\n",
              "      box-shadow: 0px 1px 2px rgba(60, 64, 67, 0.3), 0px 1px 3px 1px rgba(60, 64, 67, 0.15);\n",
              "      fill: #174EA6;\n",
              "    }\n",
              "\n",
              "    .colab-df-buttons div {\n",
              "      margin-bottom: 4px;\n",
              "    }\n",
              "\n",
              "    [theme=dark] .colab-df-convert {\n",
              "      background-color: #3B4455;\n",
              "      fill: #D2E3FC;\n",
              "    }\n",
              "\n",
              "    [theme=dark] .colab-df-convert:hover {\n",
              "      background-color: #434B5C;\n",
              "      box-shadow: 0px 1px 3px 1px rgba(0, 0, 0, 0.15);\n",
              "      filter: drop-shadow(0px 1px 2px rgba(0, 0, 0, 0.3));\n",
              "      fill: #FFFFFF;\n",
              "    }\n",
              "  </style>\n",
              "\n",
              "    <script>\n",
              "      const buttonEl =\n",
              "        document.querySelector('#df-6b24bd15-976f-4a95-9ae4-f17ee6ba635c button.colab-df-convert');\n",
              "      buttonEl.style.display =\n",
              "        google.colab.kernel.accessAllowed ? 'block' : 'none';\n",
              "\n",
              "      async function convertToInteractive(key) {\n",
              "        const element = document.querySelector('#df-6b24bd15-976f-4a95-9ae4-f17ee6ba635c');\n",
              "        const dataTable =\n",
              "          await google.colab.kernel.invokeFunction('convertToInteractive',\n",
              "                                                    [key], {});\n",
              "        if (!dataTable) return;\n",
              "\n",
              "        const docLinkHtml = 'Like what you see? Visit the ' +\n",
              "          '<a target=\"_blank\" href=https://colab.research.google.com/notebooks/data_table.ipynb>data table notebook</a>'\n",
              "          + ' to learn more about interactive tables.';\n",
              "        element.innerHTML = '';\n",
              "        dataTable['output_type'] = 'display_data';\n",
              "        await google.colab.output.renderOutput(dataTable, element);\n",
              "        const docLink = document.createElement('div');\n",
              "        docLink.innerHTML = docLinkHtml;\n",
              "        element.appendChild(docLink);\n",
              "      }\n",
              "    </script>\n",
              "  </div>\n",
              "\n",
              "\n",
              "<div id=\"df-afe7e939-fab6-4b1e-b2a7-892a63a15018\">\n",
              "  <button class=\"colab-df-quickchart\" onclick=\"quickchart('df-afe7e939-fab6-4b1e-b2a7-892a63a15018')\"\n",
              "            title=\"Suggest charts\"\n",
              "            style=\"display:none;\">\n",
              "\n",
              "<svg xmlns=\"http://www.w3.org/2000/svg\" height=\"24px\"viewBox=\"0 0 24 24\"\n",
              "     width=\"24px\">\n",
              "    <g>\n",
              "        <path d=\"M19 3H5c-1.1 0-2 .9-2 2v14c0 1.1.9 2 2 2h14c1.1 0 2-.9 2-2V5c0-1.1-.9-2-2-2zM9 17H7v-7h2v7zm4 0h-2V7h2v10zm4 0h-2v-4h2v4z\"/>\n",
              "    </g>\n",
              "</svg>\n",
              "  </button>\n",
              "\n",
              "<style>\n",
              "  .colab-df-quickchart {\n",
              "      --bg-color: #E8F0FE;\n",
              "      --fill-color: #1967D2;\n",
              "      --hover-bg-color: #E2EBFA;\n",
              "      --hover-fill-color: #174EA6;\n",
              "      --disabled-fill-color: #AAA;\n",
              "      --disabled-bg-color: #DDD;\n",
              "  }\n",
              "\n",
              "  [theme=dark] .colab-df-quickchart {\n",
              "      --bg-color: #3B4455;\n",
              "      --fill-color: #D2E3FC;\n",
              "      --hover-bg-color: #434B5C;\n",
              "      --hover-fill-color: #FFFFFF;\n",
              "      --disabled-bg-color: #3B4455;\n",
              "      --disabled-fill-color: #666;\n",
              "  }\n",
              "\n",
              "  .colab-df-quickchart {\n",
              "    background-color: var(--bg-color);\n",
              "    border: none;\n",
              "    border-radius: 50%;\n",
              "    cursor: pointer;\n",
              "    display: none;\n",
              "    fill: var(--fill-color);\n",
              "    height: 32px;\n",
              "    padding: 0;\n",
              "    width: 32px;\n",
              "  }\n",
              "\n",
              "  .colab-df-quickchart:hover {\n",
              "    background-color: var(--hover-bg-color);\n",
              "    box-shadow: 0 1px 2px rgba(60, 64, 67, 0.3), 0 1px 3px 1px rgba(60, 64, 67, 0.15);\n",
              "    fill: var(--button-hover-fill-color);\n",
              "  }\n",
              "\n",
              "  .colab-df-quickchart-complete:disabled,\n",
              "  .colab-df-quickchart-complete:disabled:hover {\n",
              "    background-color: var(--disabled-bg-color);\n",
              "    fill: var(--disabled-fill-color);\n",
              "    box-shadow: none;\n",
              "  }\n",
              "\n",
              "  .colab-df-spinner {\n",
              "    border: 2px solid var(--fill-color);\n",
              "    border-color: transparent;\n",
              "    border-bottom-color: var(--fill-color);\n",
              "    animation:\n",
              "      spin 1s steps(1) infinite;\n",
              "  }\n",
              "\n",
              "  @keyframes spin {\n",
              "    0% {\n",
              "      border-color: transparent;\n",
              "      border-bottom-color: var(--fill-color);\n",
              "      border-left-color: var(--fill-color);\n",
              "    }\n",
              "    20% {\n",
              "      border-color: transparent;\n",
              "      border-left-color: var(--fill-color);\n",
              "      border-top-color: var(--fill-color);\n",
              "    }\n",
              "    30% {\n",
              "      border-color: transparent;\n",
              "      border-left-color: var(--fill-color);\n",
              "      border-top-color: var(--fill-color);\n",
              "      border-right-color: var(--fill-color);\n",
              "    }\n",
              "    40% {\n",
              "      border-color: transparent;\n",
              "      border-right-color: var(--fill-color);\n",
              "      border-top-color: var(--fill-color);\n",
              "    }\n",
              "    60% {\n",
              "      border-color: transparent;\n",
              "      border-right-color: var(--fill-color);\n",
              "    }\n",
              "    80% {\n",
              "      border-color: transparent;\n",
              "      border-right-color: var(--fill-color);\n",
              "      border-bottom-color: var(--fill-color);\n",
              "    }\n",
              "    90% {\n",
              "      border-color: transparent;\n",
              "      border-bottom-color: var(--fill-color);\n",
              "    }\n",
              "  }\n",
              "</style>\n",
              "\n",
              "  <script>\n",
              "    async function quickchart(key) {\n",
              "      const quickchartButtonEl =\n",
              "        document.querySelector('#' + key + ' button');\n",
              "      quickchartButtonEl.disabled = true;  // To prevent multiple clicks.\n",
              "      quickchartButtonEl.classList.add('colab-df-spinner');\n",
              "      try {\n",
              "        const charts = await google.colab.kernel.invokeFunction(\n",
              "            'suggestCharts', [key], {});\n",
              "      } catch (error) {\n",
              "        console.error('Error during call to suggestCharts:', error);\n",
              "      }\n",
              "      quickchartButtonEl.classList.remove('colab-df-spinner');\n",
              "      quickchartButtonEl.classList.add('colab-df-quickchart-complete');\n",
              "    }\n",
              "    (() => {\n",
              "      let quickchartButtonEl =\n",
              "        document.querySelector('#df-afe7e939-fab6-4b1e-b2a7-892a63a15018 button');\n",
              "      quickchartButtonEl.style.display =\n",
              "        google.colab.kernel.accessAllowed ? 'block' : 'none';\n",
              "    })();\n",
              "  </script>\n",
              "</div>\n",
              "    </div>\n",
              "  </div>\n"
            ],
            "application/vnd.google.colaboratory.intrinsic+json": {
              "type": "dataframe",
              "variable_name": "bins",
              "summary": "{\n  \"name\": \"bins\",\n  \"rows\": 6024,\n  \"fields\": [\n    {\n      \"column\": \"chrom\",\n      \"properties\": {\n        \"dtype\": \"category\",\n        \"num_unique_values\": 7,\n        \"samples\": [\n          \"chr2L\",\n          \"chr2R\",\n          \"chrX\"\n        ],\n        \"semantic_type\": \"\",\n        \"description\": \"\"\n      }\n    },\n    {\n      \"column\": \"start\",\n      \"properties\": {\n        \"dtype\": \"int32\",\n        \"num_unique_values\": 1396,\n        \"samples\": [\n          15960000,\n          20440000,\n          17460000\n        ],\n        \"semantic_type\": \"\",\n        \"description\": \"\"\n      }\n    },\n    {\n      \"column\": \"end\",\n      \"properties\": {\n        \"dtype\": \"int32\",\n        \"num_unique_values\": 1402,\n        \"samples\": [\n          21880000,\n          18980000,\n          1000000\n        ],\n        \"semantic_type\": \"\",\n        \"description\": \"\"\n      }\n    },\n    {\n      \"column\": \"weight\",\n      \"properties\": {\n        \"dtype\": \"number\",\n        \"std\": 0.03873754486703748,\n        \"min\": 0.002072963781299542,\n        \"max\": 2.9496503754053656,\n        \"num_unique_values\": 5841,\n        \"samples\": [\n          0.012549935783154739,\n          0.007785005466372549,\n          0.01305700543567945\n        ],\n        \"semantic_type\": \"\",\n        \"description\": \"\"\n      }\n    }\n  ]\n}"
            }
          },
          "metadata": {},
          "execution_count": 27
        }
      ]
    },
    {
      "cell_type": "code",
      "source": [
        "for clr in clrs:\n",
        "  m=clr.matrix().fetch('chrX')\n",
        "  z=np.zeros(len(m)) # единичная матрица\n",
        "  for i in range(len(m)): # Итерация по диагоналям матриц\n",
        "    z[i]=np.nanmean(np.diagonal(m,i)) # Вычисление среднего для каждой диагонали\n",
        "  plt.plot(np.arange(len(m))*20000,np.log(z)) # Учитываем размер бина (20000)\n",
        "  plt.xscale('log') # логорифмический масштаб"
      ],
      "metadata": {
        "id": "1RTtrd6iHjKm",
        "colab": {
          "base_uri": "https://localhost:8080/",
          "height": 505
        },
        "outputId": "452927c3-4377-4025-c2cd-ded3fa64f592"
      },
      "execution_count": 31,
      "outputs": [
        {
          "output_type": "stream",
          "name": "stderr",
          "text": [
            "<ipython-input-31-9329b9af239d>:5: RuntimeWarning: Mean of empty slice\n",
            "  z[i]=np.nanmean(np.diagonal(m,i))\n",
            "<ipython-input-31-9329b9af239d>:6: RuntimeWarning: divide by zero encountered in log\n",
            "  plt.plot(np.arange(len(m))*20000,np.log(z))\n"
          ]
        },
        {
          "output_type": "display_data",
          "data": {
            "text/plain": [
              "<Figure size 640x480 with 1 Axes>"
            ],
            "image/png": "[encoded data removed]"
          },
          "metadata": {}
        }
      ]
    },
    {
      "cell_type": "markdown",
      "source": [
        "Replicates clusterization with stratum-adjusted correlation coefficient (scc)\n",
        "\n",
        "\n",
        "We have replicates for 2 *drosophila* cell lines: Bg3 and Kc167.  \n",
        "Bg3 - nervous cell line (HiC1...., HiC2... files)   \n",
        "Kc167 - embryonic cell line  (HiC3...., HiC4... files)  \n",
        "The aim is to conduct replicates clusterization, using scc and demonstrate  that replicates of same cell line tend to be closer to each other comparing with different cell types.    \n",
        "Hicrep can only calculate scc for each chromosome separately.  \n",
        "This is why you obtain several values with hicrepSCC function (run code below). The number of the values is equal to the number of chromosomes in cool file. So lets imagine, you take 2 mcool (or cool) files and decide to calculate scc between Hi-C matrices storing in these files only for chromosome 'chr2L', than for 'chr2R', etc. You will obtain as many scc as there are chromosomes in the Hi-C map. This is exactly what hicrepSCC function gives as an output. But then, to get single general scc value for 2 Hi-C maps (2 replicates) you should calculate average value of scc across all the chromosomes.   \n",
        "So you have an scc (averaged across chrs) for each pair of samples (HiC1-HiC2,HiC1-HiC3,HiC1-HiC4,HiC2-HiC3,HiC2-HiC4,HiC3-HiC4). Now you can use these values as the measure of similarity between each 2 samples and build a dendrogram.  \n",
        "To do this, you should construct symmetric matrix of similarity from calculated SCCs with ones on the diagonal.\n",
        "This matrix should be used as an input for 'linkage' function (see below)"
      ],
      "metadata": {
        "id": "7et5Shej9Bcm"
      }
    },
    {
      "cell_type": "code",
      "source": [
        "### the code is for calculation of scc between HiC1.dm3.mapq_30.1000.mcool and HiC2.dm3.mapq_30.1000.mcool\n",
        "##!!! describe the next four parameter (as comments)\n",
        "\n",
        "binSize = 7000000\n",
        "dBPMax = 8000000\n",
        "bDownSample = True\n",
        "h=0\n",
        "\n",
        "fmcool1 = dir + 'HiC1.dm3.mapq_30.1000.mcool'\n",
        "fmcool2 = dir + 'HiC2.dm3.mapq_30.1000.mcool'\n",
        "cool1, binSize1 = readMcool(fmcool1, binSize)\n",
        "cool2, binSize2 = readMcool(fmcool2, binSize)\n",
        "scc=hicrepSCC(cool1, cool2, h, dBPMax, bDownSample)\n",
        "\n"
      ],
      "metadata": {
        "colab": {
          "base_uri": "https://localhost:8080/"
        },
        "id": "IEGZxslHHK2O",
        "outputId": "67a9b820-867e-470a-960b-7edcfa368bd9"
      },
      "execution_count": null,
      "outputs": [
        {
          "output_type": "stream",
          "name": "stderr",
          "text": [
            "/usr/local/lib/python3.10/site-packages/hicrep/hicrep.py:125: FutureWarning: Series.__getitem__ treating keys as positions is deprecated. In a future version, integer keys will always be treated as labels (consistent with DataFrame behavior). To access a value by position, use `ser.iloc[pos]`\n",
            "  assert (cool1.chroms()[:] == cool2.chroms()[:]).all()[0],\\\n",
            "/usr/local/lib/python3.10/site-packages/hicrep/hicrep.py:91: RuntimeWarning: invalid value encountered in scalar divide\n",
            "  return rhoNan2Zero @ wsNan2Zero / wsNan2Zero.sum()\n"
          ]
        }
      ]
    },
    {
      "cell_type": "code",
      "source": [],
      "metadata": {
        "colab": {
          "base_uri": "https://localhost:8080/"
        },
        "id": "1tJedC7642lV",
        "outputId": "264a0dc6-d971-45bc-ccf1-b63f2e28e32b"
      },
      "execution_count": null,
      "outputs": [
        {
          "output_type": "execute_result",
          "data": {
            "text/plain": [
              "array([0.6139498 , 0.57667729, 0.76396964, 0.57311631, 0.88925231,\n",
              "       0.62139663,        nan])"
            ]
          },
          "metadata": {},
          "execution_count": 26
        }
      ]
    },
    {
      "cell_type": "code",
      "source": [],
      "metadata": {
        "id": "LyBBF4j5mLxT"
      },
      "execution_count": null,
      "outputs": []
    },
    {
      "cell_type": "code",
      "source": [],
      "metadata": {
        "colab": {
          "base_uri": "https://localhost:8080/"
        },
        "id": "_MSyXJn79gkI",
        "outputId": "b9c878e9-e62b-416c-af86-302f07772d22"
      },
      "execution_count": null,
      "outputs": [
        {
          "output_type": "execute_result",
          "data": {
            "text/plain": [
              "0.6720139214615076"
            ]
          },
          "metadata": {},
          "execution_count": 26
        }
      ]
    },
    {
      "cell_type": "code",
      "source": [
        "clr.chromnames"
      ],
      "metadata": {
        "colab": {
          "base_uri": "https://localhost:8080/"
        },
        "id": "TgW8trpPBIgi",
        "outputId": "188d0711-4ca5-4bfd-ce64-8059c9b34ca2"
      },
      "execution_count": null,
      "outputs": [
        {
          "output_type": "execute_result",
          "data": {
            "text/plain": [
              "['chr2L', 'chr2R', 'chr3L', 'chr3R', 'chr4', 'chrX', 'chrM']"
            ]
          },
          "metadata": {},
          "execution_count": 23
        }
      ]
    },
    {
      "cell_type": "code",
      "source": [
        "sccSub = hicrepSCC(cool1, cool2, h, dBPMax, bDownSample, np.array(['chr2L', 'chr2R'], dtype=str))\n"
      ],
      "metadata": {
        "colab": {
          "base_uri": "https://localhost:8080/"
        },
        "id": "yeSWDRgXAT-I",
        "outputId": "9ff9eb39-95e0-4f5d-84e9-533859d0b01f"
      },
      "execution_count": null,
      "outputs": [
        {
          "output_type": "stream",
          "name": "stderr",
          "text": [
            "/usr/local/lib/python3.10/site-packages/hicrep/hicrep.py:125: FutureWarning: Series.__getitem__ treating keys as positions is deprecated. In a future version, integer keys will always be treated as labels (consistent with DataFrame behavior). To access a value by position, use `ser.iloc[pos]`\n",
            "  assert (cool1.chroms()[:] == cool2.chroms()[:]).all()[0],\\\n"
          ]
        }
      ]
    },
    {
      "cell_type": "code",
      "source": [
        "sccSub"
      ],
      "metadata": {
        "colab": {
          "base_uri": "https://localhost:8080/"
        },
        "id": "Xha4QuLnCzgW",
        "outputId": "f1b769f3-6660-4e82-d5fc-bd29dd4825e8"
      },
      "execution_count": null,
      "outputs": [
        {
          "output_type": "execute_result",
          "data": {
            "text/plain": [
              "array([0.61761539, 0.57577044])"
            ]
          },
          "metadata": {},
          "execution_count": 28
        }
      ]
    },
    {
      "cell_type": "code",
      "source": [],
      "metadata": {
        "id": "D-3pAqB-Uurd"
      },
      "execution_count": null,
      "outputs": []
    },
    {
      "cell_type": "code",
      "source": [],
      "metadata": {
        "id": "OEc1Kb36Sssf"
      },
      "execution_count": null,
      "outputs": []
    }
  ]
}